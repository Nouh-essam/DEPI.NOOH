{
  "nbformat": 4,
  "nbformat_minor": 0,
  "metadata": {
    "colab": {
      "provenance": [],
      "authorship_tag": "ABX9TyMPB/VxHiNDeWueHyzZW3sP",
      "include_colab_link": true
    },
    "kernelspec": {
      "name": "python3",
      "display_name": "Python 3"
    },
    "language_info": {
      "name": "python"
    }
  },
  "cells": [
    {
      "cell_type": "markdown",
      "metadata": {
        "id": "view-in-github",
        "colab_type": "text"
      },
      "source": [
        "<a href=\"https://colab.research.google.com/github/Nouh-essam/DEPI.NOOH/blob/main/Recommendation_System_Project.ipynb\" target=\"_parent\"><img src=\"https://colab.research.google.com/assets/colab-badge.svg\" alt=\"Open In Colab\"/></a>"
      ]
    },
    {
      "cell_type": "code",
      "execution_count": null,
      "metadata": {
        "id": "bpZCRIVEOczW"
      },
      "outputs": [],
      "source": [
        "import tensorflow as tf\n",
        "from tensorflow import keras\n",
        "import numpy as np # linear algebra\n",
        "import pandas as pd"
      ]
    },
    {
      "cell_type": "code",
      "source": [
        "#loading files via numpy\n",
        "from numpy import loadtxt\n",
        "def load_ratings_small():\n",
        "  file = open('Apartment_Y.csv', 'rb')\n",
        "  Y = loadtxt(file,delimiter = \",\")\n",
        "\n",
        "  file = open('Apartment_R.csv', 'rb')\n",
        "  R = loadtxt(file,delimiter = \",\")\n",
        "  return(Y,R)"
      ],
      "metadata": {
        "id": "zXUL3zHBPa2C"
      },
      "execution_count": null,
      "outputs": []
    },
    {
      "cell_type": "code",
      "source": [
        "Y, R = load_ratings_small()"
      ],
      "metadata": {
        "id": "I5ryqTmSPbCy"
      },
      "execution_count": null,
      "outputs": []
    },
    {
      "cell_type": "code",
      "source": [
        "apartmentList_df=pd.read_csv('Apartment Database.csv',index_col=0)"
      ],
      "metadata": {
        "id": "uftqzAVgBzu9"
      },
      "execution_count": null,
      "outputs": []
    },
    {
      "cell_type": "code",
      "source": [
        "num_apartments , num_users = Y.shape\n",
        "my_ratings = np.zeros(num_apartments)\n"
      ],
      "metadata": {
        "id": "9JJVEX1m_Mi3"
      },
      "execution_count": null,
      "outputs": []
    },
    {
      "cell_type": "code",
      "source": [
        "Y,R=load_ratings_small()\n",
        "Y=np.c_[my_ratings,Y]\n",
        "R=np.c_[(my_ratings!=0).astype(int),R]"
      ],
      "metadata": {
        "id": "ErVk2Jp0ANP5"
      },
      "execution_count": null,
      "outputs": []
    },
    {
      "cell_type": "code",
      "source": [
        "#Normalize\n",
        "Y_mean=(np.sum(Y*R,axis=1)/(np.sum(R,axis=1)+1e-12)).reshape(-1,1)\n",
        "Y_norm=Y-Y_mean*R"
      ],
      "metadata": {
        "id": "BImw0DOSPbIf"
      },
      "execution_count": null,
      "outputs": []
    },
    {
      "cell_type": "code",
      "source": [
        "num_apartments,num_users=Y.shape\n",
        "num_features=11\n",
        "\n",
        "tf.random.set_seed(1234)\n",
        "W=tf.Variable(tf.random.normal((num_users,num_features),dtype=tf.float64),name='W')\n",
        "X=tf.Variable(tf.random.normal((num_apartments,num_features),dtype=tf.float64),name='X')\n",
        "b=tf.Variable(tf.random.normal((1,num_users),dtype=tf.float64),name='b')\n",
        "\n",
        "optimizer=tf.keras.optimizers.Adam(learning_rate=1e-1)"
      ],
      "metadata": {
        "id": "8KSoddZVPbLB"
      },
      "execution_count": null,
      "outputs": []
    },
    {
      "cell_type": "code",
      "source": [
        "def cofi_cost_func(X, W, b, Y, R, lambda_):\n",
        "  J = (tf.linalg.matmul(X, tf.transpose(W)) + b - Y)*R      #matmul works different for dimensions>2\n",
        "  J = 0.5 * tf.reduce_sum(J**2) + (lambda_/2) * (tf.reduce_sum(X**2) + tf.reduce_sum(W**2))\n",
        "\n",
        "  return J"
      ],
      "metadata": {
        "id": "J_u9Xuc0PbNP"
      },
      "execution_count": null,
      "outputs": []
    },
    {
      "cell_type": "code",
      "source": [
        "#  Using tensorflow , we can find derivative of cost function\n",
        "iterations=700\n",
        "lambda_=1\n",
        "for i in range(iterations):\n",
        "  with tf.GradientTape() as tape:\n",
        "    # Compute the cost (forward pass included in cost)\n",
        "    cost=cofi_cost_func(X,W,b,Y_norm,R,lambda_)\n",
        "  grad=tape.gradient(cost,[X,W,b])\n",
        "  # Run one step of gradient descent by updating\n",
        "  # the value of the variables to minimize the loss.\n",
        "  optimizer.apply_gradients(zip(grad,[X,W,b]))\n",
        "  # Log periodically.\n",
        "  #if i % 200 == 0:\n",
        "    #print(f\"Training loss at iteration {i}: {cost:0.1f}\")"
      ],
      "metadata": {
        "id": "fClmDeuOPbPm"
      },
      "execution_count": null,
      "outputs": []
    },
    {
      "cell_type": "code",
      "source": [
        "p=np.matmul(X.numpy(),tf.transpose(W.numpy())) + b.numpy()"
      ],
      "metadata": {
        "id": "xWGpSBzWPbSM"
      },
      "execution_count": null,
      "outputs": []
    },
    {
      "cell_type": "code",
      "source": [
        "pm=p+Y_mean"
      ],
      "metadata": {
        "id": "8EwxfoYePbUU"
      },
      "execution_count": null,
      "outputs": []
    },
    {
      "cell_type": "code",
      "source": [
        "my_predictions=pm[:,0]\n",
        "sorted_index=tf.argsort(my_predictions,direction='DESCENDING')"
      ],
      "metadata": {
        "id": "wCH8d22OPbXr"
      },
      "execution_count": null,
      "outputs": []
    },
    {
      "cell_type": "code",
      "source": [
        "apartmentList_df = apartmentList_df.iloc[:len(my_predictions), :]\n",
        "apartmentList_df['pred']=my_predictions\n",
        "#apartmentList_df"
      ],
      "metadata": {
        "colab": {
          "base_uri": "https://localhost:8080/"
        },
        "id": "b02eR6VuDDdp",
        "outputId": "46ed0c40-772e-4eba-f3f0-30608bbd8a13"
      },
      "execution_count": null,
      "outputs": [
        {
          "output_type": "stream",
          "name": "stderr",
          "text": [
            "<ipython-input-15-db3e8c051ba9>:2: SettingWithCopyWarning: \n",
            "A value is trying to be set on a copy of a slice from a DataFrame.\n",
            "Try using .loc[row_indexer,col_indexer] = value instead\n",
            "\n",
            "See the caveats in the documentation: https://pandas.pydata.org/pandas-docs/stable/user_guide/indexing.html#returning-a-view-versus-a-copy\n",
            "  apartmentList_df['pred']=my_predictions\n"
          ]
        }
      ]
    },
    {
      "cell_type": "code",
      "source": [
        "apartmentList_df=apartmentList_df.reindex(columns=[\"pred\", \"Mean rating\",\"Area\",\"Price\",\"Level of Luxury\",\"floor\",\"Elevator\",\"Finishing\",\"Number of Rooms\",\n",
        "                                           \"Ability of Negotiation\",\"Overlooks\"])\n",
        "#apartmentList_df"
      ],
      "metadata": {
        "id": "ljkGGztOlU_A"
      },
      "execution_count": null,
      "outputs": []
    },
    {
      "cell_type": "code",
      "source": [
        "# Assuming 'my_predictions' is the column you want to sort\n",
        "sorted_indices = np.argsort(my_predictions, kind='stable')  # Use numpy's argsort\n",
        "apartmentList_df = apartmentList_df.iloc[sorted_indices].sort_values('Mean rating', ascending=False)\n",
        "apartmentList_df.iloc[:99]"
      ],
      "metadata": {
        "colab": {
          "base_uri": "https://localhost:8080/",
          "height": 648
        },
        "id": "O68vuarQpcAa",
        "outputId": "72f8a3af-3bf4-49c7-9c9b-7662be951cd3"
      },
      "execution_count": null,
      "outputs": [
        {
          "output_type": "execute_result",
          "data": {
            "text/plain": [
              "                      pred  Mean rating   Area      Price Level of Luxury  \\\n",
              "Apartment Number                                                            \n",
              "45.0              3.718059     2.980392  170.0  4,750,000       very good   \n",
              "43.0              3.693059     2.960784  275.0  8,000,000       very good   \n",
              "44.0              3.454645     2.843137  200.0  4,500,000       very good   \n",
              "47.0              3.357084     2.764706  185.0  5,000,000       very good   \n",
              "52.0              3.150618     2.725490  100.0  1,750,000       very good   \n",
              "...                    ...          ...    ...        ...             ...   \n",
              "61.0              2.259523     1.882353  120.0  1,650,000            good   \n",
              "17.0              2.712177     1.862745  145.0  2,700,000          normal   \n",
              "38.0              2.632345     1.862745   65.0    350,000          normal   \n",
              "53.0              2.353957     1.862745  110.0  1,550,000          normal   \n",
              "22.0              2.123188     1.686275   96.0  1,500,000          normal   \n",
              "\n",
              "                  floor Elevator  Finishing  Number of Rooms  \\\n",
              "Apartment Number                                               \n",
              "45.0                5.0      yes      delux              3.0   \n",
              "43.0                7.0      yes      delux              3.0   \n",
              "44.0                9.0      yes  super lux              3.0   \n",
              "47.0               11.0       no      delux              2.0   \n",
              "52.0                6.0      yes  super lux              2.0   \n",
              "...                 ...      ...        ...              ...   \n",
              "61.0                9.0       no  super lux              3.0   \n",
              "17.0                4.0       no        lux              3.0   \n",
              "38.0                4.0       no       full              2.0   \n",
              "53.0               10.0       no  super lux              3.0   \n",
              "22.0                4.0       no  super lux              2.0   \n",
              "\n",
              "                 Ability of Negotiation               Overlooks  \n",
              "Apartment Number                                                 \n",
              "45.0                                yes     sea and main street  \n",
              "43.0                                 no    sea and tourist walk  \n",
              "44.0                                yes  main street and garden  \n",
              "47.0                                 no     sea and main street  \n",
              "52.0                                yes                    none  \n",
              "...                                 ...                     ...  \n",
              "61.0                                yes                    none  \n",
              "17.0                                 no                    none  \n",
              "38.0                                yes                    none  \n",
              "53.0                                yes                    none  \n",
              "22.0                                 no                    none  \n",
              "\n",
              "[99 rows x 11 columns]"
            ],
            "text/html": [
              "\n",
              "  <div id=\"df-a924b7bc-c1ff-4135-ae3a-2ab93d65e127\" class=\"colab-df-container\">\n",
              "    <div>\n",
              "<style scoped>\n",
              "    .dataframe tbody tr th:only-of-type {\n",
              "        vertical-align: middle;\n",
              "    }\n",
              "\n",
              "    .dataframe tbody tr th {\n",
              "        vertical-align: top;\n",
              "    }\n",
              "\n",
              "    .dataframe thead th {\n",
              "        text-align: right;\n",
              "    }\n",
              "</style>\n",
              "<table border=\"1\" class=\"dataframe\">\n",
              "  <thead>\n",
              "    <tr style=\"text-align: right;\">\n",
              "      <th></th>\n",
              "      <th>pred</th>\n",
              "      <th>Mean rating</th>\n",
              "      <th>Area</th>\n",
              "      <th>Price</th>\n",
              "      <th>Level of Luxury</th>\n",
              "      <th>floor</th>\n",
              "      <th>Elevator</th>\n",
              "      <th>Finishing</th>\n",
              "      <th>Number of Rooms</th>\n",
              "      <th>Ability of Negotiation</th>\n",
              "      <th>Overlooks</th>\n",
              "    </tr>\n",
              "    <tr>\n",
              "      <th>Apartment Number</th>\n",
              "      <th></th>\n",
              "      <th></th>\n",
              "      <th></th>\n",
              "      <th></th>\n",
              "      <th></th>\n",
              "      <th></th>\n",
              "      <th></th>\n",
              "      <th></th>\n",
              "      <th></th>\n",
              "      <th></th>\n",
              "      <th></th>\n",
              "    </tr>\n",
              "  </thead>\n",
              "  <tbody>\n",
              "    <tr>\n",
              "      <th>45.0</th>\n",
              "      <td>3.718059</td>\n",
              "      <td>2.980392</td>\n",
              "      <td>170.0</td>\n",
              "      <td>4,750,000</td>\n",
              "      <td>very good</td>\n",
              "      <td>5.0</td>\n",
              "      <td>yes</td>\n",
              "      <td>delux</td>\n",
              "      <td>3.0</td>\n",
              "      <td>yes</td>\n",
              "      <td>sea and main street</td>\n",
              "    </tr>\n",
              "    <tr>\n",
              "      <th>43.0</th>\n",
              "      <td>3.693059</td>\n",
              "      <td>2.960784</td>\n",
              "      <td>275.0</td>\n",
              "      <td>8,000,000</td>\n",
              "      <td>very good</td>\n",
              "      <td>7.0</td>\n",
              "      <td>yes</td>\n",
              "      <td>delux</td>\n",
              "      <td>3.0</td>\n",
              "      <td>no</td>\n",
              "      <td>sea and tourist walk</td>\n",
              "    </tr>\n",
              "    <tr>\n",
              "      <th>44.0</th>\n",
              "      <td>3.454645</td>\n",
              "      <td>2.843137</td>\n",
              "      <td>200.0</td>\n",
              "      <td>4,500,000</td>\n",
              "      <td>very good</td>\n",
              "      <td>9.0</td>\n",
              "      <td>yes</td>\n",
              "      <td>super lux</td>\n",
              "      <td>3.0</td>\n",
              "      <td>yes</td>\n",
              "      <td>main street and garden</td>\n",
              "    </tr>\n",
              "    <tr>\n",
              "      <th>47.0</th>\n",
              "      <td>3.357084</td>\n",
              "      <td>2.764706</td>\n",
              "      <td>185.0</td>\n",
              "      <td>5,000,000</td>\n",
              "      <td>very good</td>\n",
              "      <td>11.0</td>\n",
              "      <td>no</td>\n",
              "      <td>delux</td>\n",
              "      <td>2.0</td>\n",
              "      <td>no</td>\n",
              "      <td>sea and main street</td>\n",
              "    </tr>\n",
              "    <tr>\n",
              "      <th>52.0</th>\n",
              "      <td>3.150618</td>\n",
              "      <td>2.725490</td>\n",
              "      <td>100.0</td>\n",
              "      <td>1,750,000</td>\n",
              "      <td>very good</td>\n",
              "      <td>6.0</td>\n",
              "      <td>yes</td>\n",
              "      <td>super lux</td>\n",
              "      <td>2.0</td>\n",
              "      <td>yes</td>\n",
              "      <td>none</td>\n",
              "    </tr>\n",
              "    <tr>\n",
              "      <th>...</th>\n",
              "      <td>...</td>\n",
              "      <td>...</td>\n",
              "      <td>...</td>\n",
              "      <td>...</td>\n",
              "      <td>...</td>\n",
              "      <td>...</td>\n",
              "      <td>...</td>\n",
              "      <td>...</td>\n",
              "      <td>...</td>\n",
              "      <td>...</td>\n",
              "      <td>...</td>\n",
              "    </tr>\n",
              "    <tr>\n",
              "      <th>61.0</th>\n",
              "      <td>2.259523</td>\n",
              "      <td>1.882353</td>\n",
              "      <td>120.0</td>\n",
              "      <td>1,650,000</td>\n",
              "      <td>good</td>\n",
              "      <td>9.0</td>\n",
              "      <td>no</td>\n",
              "      <td>super lux</td>\n",
              "      <td>3.0</td>\n",
              "      <td>yes</td>\n",
              "      <td>none</td>\n",
              "    </tr>\n",
              "    <tr>\n",
              "      <th>17.0</th>\n",
              "      <td>2.712177</td>\n",
              "      <td>1.862745</td>\n",
              "      <td>145.0</td>\n",
              "      <td>2,700,000</td>\n",
              "      <td>normal</td>\n",
              "      <td>4.0</td>\n",
              "      <td>no</td>\n",
              "      <td>lux</td>\n",
              "      <td>3.0</td>\n",
              "      <td>no</td>\n",
              "      <td>none</td>\n",
              "    </tr>\n",
              "    <tr>\n",
              "      <th>38.0</th>\n",
              "      <td>2.632345</td>\n",
              "      <td>1.862745</td>\n",
              "      <td>65.0</td>\n",
              "      <td>350,000</td>\n",
              "      <td>normal</td>\n",
              "      <td>4.0</td>\n",
              "      <td>no</td>\n",
              "      <td>full</td>\n",
              "      <td>2.0</td>\n",
              "      <td>yes</td>\n",
              "      <td>none</td>\n",
              "    </tr>\n",
              "    <tr>\n",
              "      <th>53.0</th>\n",
              "      <td>2.353957</td>\n",
              "      <td>1.862745</td>\n",
              "      <td>110.0</td>\n",
              "      <td>1,550,000</td>\n",
              "      <td>normal</td>\n",
              "      <td>10.0</td>\n",
              "      <td>no</td>\n",
              "      <td>super lux</td>\n",
              "      <td>3.0</td>\n",
              "      <td>yes</td>\n",
              "      <td>none</td>\n",
              "    </tr>\n",
              "    <tr>\n",
              "      <th>22.0</th>\n",
              "      <td>2.123188</td>\n",
              "      <td>1.686275</td>\n",
              "      <td>96.0</td>\n",
              "      <td>1,500,000</td>\n",
              "      <td>normal</td>\n",
              "      <td>4.0</td>\n",
              "      <td>no</td>\n",
              "      <td>super lux</td>\n",
              "      <td>2.0</td>\n",
              "      <td>no</td>\n",
              "      <td>none</td>\n",
              "    </tr>\n",
              "  </tbody>\n",
              "</table>\n",
              "<p>99 rows × 11 columns</p>\n",
              "</div>\n",
              "    <div class=\"colab-df-buttons\">\n",
              "\n",
              "  <div class=\"colab-df-container\">\n",
              "    <button class=\"colab-df-convert\" onclick=\"convertToInteractive('df-a924b7bc-c1ff-4135-ae3a-2ab93d65e127')\"\n",
              "            title=\"Convert this dataframe to an interactive table.\"\n",
              "            style=\"display:none;\">\n",
              "\n",
              "  <svg xmlns=\"http://www.w3.org/2000/svg\" height=\"24px\" viewBox=\"0 -960 960 960\">\n",
              "    <path d=\"M120-120v-720h720v720H120Zm60-500h600v-160H180v160Zm220 220h160v-160H400v160Zm0 220h160v-160H400v160ZM180-400h160v-160H180v160Zm440 0h160v-160H620v160ZM180-180h160v-160H180v160Zm440 0h160v-160H620v160Z\"/>\n",
              "  </svg>\n",
              "    </button>\n",
              "\n",
              "  <style>\n",
              "    .colab-df-container {\n",
              "      display:flex;\n",
              "      gap: 12px;\n",
              "    }\n",
              "\n",
              "    .colab-df-convert {\n",
              "      background-color: #E8F0FE;\n",
              "      border: none;\n",
              "      border-radius: 50%;\n",
              "      cursor: pointer;\n",
              "      display: none;\n",
              "      fill: #1967D2;\n",
              "      height: 32px;\n",
              "      padding: 0 0 0 0;\n",
              "      width: 32px;\n",
              "    }\n",
              "\n",
              "    .colab-df-convert:hover {\n",
              "      background-color: #E2EBFA;\n",
              "      box-shadow: 0px 1px 2px rgba(60, 64, 67, 0.3), 0px 1px 3px 1px rgba(60, 64, 67, 0.15);\n",
              "      fill: #174EA6;\n",
              "    }\n",
              "\n",
              "    .colab-df-buttons div {\n",
              "      margin-bottom: 4px;\n",
              "    }\n",
              "\n",
              "    [theme=dark] .colab-df-convert {\n",
              "      background-color: #3B4455;\n",
              "      fill: #D2E3FC;\n",
              "    }\n",
              "\n",
              "    [theme=dark] .colab-df-convert:hover {\n",
              "      background-color: #434B5C;\n",
              "      box-shadow: 0px 1px 3px 1px rgba(0, 0, 0, 0.15);\n",
              "      filter: drop-shadow(0px 1px 2px rgba(0, 0, 0, 0.3));\n",
              "      fill: #FFFFFF;\n",
              "    }\n",
              "  </style>\n",
              "\n",
              "    <script>\n",
              "      const buttonEl =\n",
              "        document.querySelector('#df-a924b7bc-c1ff-4135-ae3a-2ab93d65e127 button.colab-df-convert');\n",
              "      buttonEl.style.display =\n",
              "        google.colab.kernel.accessAllowed ? 'block' : 'none';\n",
              "\n",
              "      async function convertToInteractive(key) {\n",
              "        const element = document.querySelector('#df-a924b7bc-c1ff-4135-ae3a-2ab93d65e127');\n",
              "        const dataTable =\n",
              "          await google.colab.kernel.invokeFunction('convertToInteractive',\n",
              "                                                    [key], {});\n",
              "        if (!dataTable) return;\n",
              "\n",
              "        const docLinkHtml = 'Like what you see? Visit the ' +\n",
              "          '<a target=\"_blank\" href=https://colab.research.google.com/notebooks/data_table.ipynb>data table notebook</a>'\n",
              "          + ' to learn more about interactive tables.';\n",
              "        element.innerHTML = '';\n",
              "        dataTable['output_type'] = 'display_data';\n",
              "        await google.colab.output.renderOutput(dataTable, element);\n",
              "        const docLink = document.createElement('div');\n",
              "        docLink.innerHTML = docLinkHtml;\n",
              "        element.appendChild(docLink);\n",
              "      }\n",
              "    </script>\n",
              "  </div>\n",
              "\n",
              "\n",
              "<div id=\"df-687443df-1971-41f8-9684-372a82738fb0\">\n",
              "  <button class=\"colab-df-quickchart\" onclick=\"quickchart('df-687443df-1971-41f8-9684-372a82738fb0')\"\n",
              "            title=\"Suggest charts\"\n",
              "            style=\"display:none;\">\n",
              "\n",
              "<svg xmlns=\"http://www.w3.org/2000/svg\" height=\"24px\"viewBox=\"0 0 24 24\"\n",
              "     width=\"24px\">\n",
              "    <g>\n",
              "        <path d=\"M19 3H5c-1.1 0-2 .9-2 2v14c0 1.1.9 2 2 2h14c1.1 0 2-.9 2-2V5c0-1.1-.9-2-2-2zM9 17H7v-7h2v7zm4 0h-2V7h2v10zm4 0h-2v-4h2v4z\"/>\n",
              "    </g>\n",
              "</svg>\n",
              "  </button>\n",
              "\n",
              "<style>\n",
              "  .colab-df-quickchart {\n",
              "      --bg-color: #E8F0FE;\n",
              "      --fill-color: #1967D2;\n",
              "      --hover-bg-color: #E2EBFA;\n",
              "      --hover-fill-color: #174EA6;\n",
              "      --disabled-fill-color: #AAA;\n",
              "      --disabled-bg-color: #DDD;\n",
              "  }\n",
              "\n",
              "  [theme=dark] .colab-df-quickchart {\n",
              "      --bg-color: #3B4455;\n",
              "      --fill-color: #D2E3FC;\n",
              "      --hover-bg-color: #434B5C;\n",
              "      --hover-fill-color: #FFFFFF;\n",
              "      --disabled-bg-color: #3B4455;\n",
              "      --disabled-fill-color: #666;\n",
              "  }\n",
              "\n",
              "  .colab-df-quickchart {\n",
              "    background-color: var(--bg-color);\n",
              "    border: none;\n",
              "    border-radius: 50%;\n",
              "    cursor: pointer;\n",
              "    display: none;\n",
              "    fill: var(--fill-color);\n",
              "    height: 32px;\n",
              "    padding: 0;\n",
              "    width: 32px;\n",
              "  }\n",
              "\n",
              "  .colab-df-quickchart:hover {\n",
              "    background-color: var(--hover-bg-color);\n",
              "    box-shadow: 0 1px 2px rgba(60, 64, 67, 0.3), 0 1px 3px 1px rgba(60, 64, 67, 0.15);\n",
              "    fill: var(--button-hover-fill-color);\n",
              "  }\n",
              "\n",
              "  .colab-df-quickchart-complete:disabled,\n",
              "  .colab-df-quickchart-complete:disabled:hover {\n",
              "    background-color: var(--disabled-bg-color);\n",
              "    fill: var(--disabled-fill-color);\n",
              "    box-shadow: none;\n",
              "  }\n",
              "\n",
              "  .colab-df-spinner {\n",
              "    border: 2px solid var(--fill-color);\n",
              "    border-color: transparent;\n",
              "    border-bottom-color: var(--fill-color);\n",
              "    animation:\n",
              "      spin 1s steps(1) infinite;\n",
              "  }\n",
              "\n",
              "  @keyframes spin {\n",
              "    0% {\n",
              "      border-color: transparent;\n",
              "      border-bottom-color: var(--fill-color);\n",
              "      border-left-color: var(--fill-color);\n",
              "    }\n",
              "    20% {\n",
              "      border-color: transparent;\n",
              "      border-left-color: var(--fill-color);\n",
              "      border-top-color: var(--fill-color);\n",
              "    }\n",
              "    30% {\n",
              "      border-color: transparent;\n",
              "      border-left-color: var(--fill-color);\n",
              "      border-top-color: var(--fill-color);\n",
              "      border-right-color: var(--fill-color);\n",
              "    }\n",
              "    40% {\n",
              "      border-color: transparent;\n",
              "      border-right-color: var(--fill-color);\n",
              "      border-top-color: var(--fill-color);\n",
              "    }\n",
              "    60% {\n",
              "      border-color: transparent;\n",
              "      border-right-color: var(--fill-color);\n",
              "    }\n",
              "    80% {\n",
              "      border-color: transparent;\n",
              "      border-right-color: var(--fill-color);\n",
              "      border-bottom-color: var(--fill-color);\n",
              "    }\n",
              "    90% {\n",
              "      border-color: transparent;\n",
              "      border-bottom-color: var(--fill-color);\n",
              "    }\n",
              "  }\n",
              "</style>\n",
              "\n",
              "  <script>\n",
              "    async function quickchart(key) {\n",
              "      const quickchartButtonEl =\n",
              "        document.querySelector('#' + key + ' button');\n",
              "      quickchartButtonEl.disabled = true;  // To prevent multiple clicks.\n",
              "      quickchartButtonEl.classList.add('colab-df-spinner');\n",
              "      try {\n",
              "        const charts = await google.colab.kernel.invokeFunction(\n",
              "            'suggestCharts', [key], {});\n",
              "      } catch (error) {\n",
              "        console.error('Error during call to suggestCharts:', error);\n",
              "      }\n",
              "      quickchartButtonEl.classList.remove('colab-df-spinner');\n",
              "      quickchartButtonEl.classList.add('colab-df-quickchart-complete');\n",
              "    }\n",
              "    (() => {\n",
              "      let quickchartButtonEl =\n",
              "        document.querySelector('#df-687443df-1971-41f8-9684-372a82738fb0 button');\n",
              "      quickchartButtonEl.style.display =\n",
              "        google.colab.kernel.accessAllowed ? 'block' : 'none';\n",
              "    })();\n",
              "  </script>\n",
              "</div>\n",
              "\n",
              "    </div>\n",
              "  </div>\n"
            ],
            "application/vnd.google.colaboratory.intrinsic+json": {
              "type": "dataframe",
              "summary": "{\n  \"name\": \"apartmentList_df\",\n  \"rows\": 99,\n  \"fields\": [\n    {\n      \"column\": \"Apartment Number\",\n      \"properties\": {\n        \"dtype\": \"number\",\n        \"std\": 28.722813232690143,\n        \"min\": 1.0,\n        \"max\": 99.0,\n        \"num_unique_values\": 99,\n        \"samples\": [\n          57.0,\n          4.0,\n          17.0\n        ],\n        \"semantic_type\": \"\",\n        \"description\": \"\"\n      }\n    },\n    {\n      \"column\": \"pred\",\n      \"properties\": {\n        \"dtype\": \"number\",\n        \"std\": 0.28403432320955374,\n        \"min\": 2.1231876972714057,\n        \"max\": 3.718059492143162,\n        \"num_unique_values\": 89,\n        \"samples\": [\n          3.075954228985279,\n          2.9443752816168614,\n          3.4894880635717263\n        ],\n        \"semantic_type\": \"\",\n        \"description\": \"\"\n      }\n    },\n    {\n      \"column\": \"Mean rating\",\n      \"properties\": {\n        \"dtype\": \"number\",\n        \"std\": 0.24658344722201908,\n        \"min\": 1.686275,\n        \"max\": 2.980392,\n        \"num_unique_values\": 41,\n        \"samples\": [\n          2.27451,\n          2.509804,\n          2.627451\n        ],\n        \"semantic_type\": \"\",\n        \"description\": \"\"\n      }\n    },\n    {\n      \"column\": \"Area\",\n      \"properties\": {\n        \"dtype\": \"number\",\n        \"std\": 50.21449354301083,\n        \"min\": 53.0,\n        \"max\": 275.0,\n        \"num_unique_values\": 38,\n        \"samples\": [\n          96.0,\n          68.0,\n          100.0\n        ],\n        \"semantic_type\": \"\",\n        \"description\": \"\"\n      }\n    },\n    {\n      \"column\": \"Price\",\n      \"properties\": {\n        \"dtype\": \"string\",\n        \"num_unique_values\": 56,\n        \"samples\": [\n          \"4,750,000\",\n          \"2,500,000\",\n          \"780,000\"\n        ],\n        \"semantic_type\": \"\",\n        \"description\": \"\"\n      }\n    },\n    {\n      \"column\": \"Level of Luxury\",\n      \"properties\": {\n        \"dtype\": \"category\",\n        \"num_unique_values\": 4,\n        \"samples\": [\n          \"good\",\n          \"low\",\n          \"very good\"\n        ],\n        \"semantic_type\": \"\",\n        \"description\": \"\"\n      }\n    },\n    {\n      \"column\": \"floor\",\n      \"properties\": {\n        \"dtype\": \"number\",\n        \"std\": 2.8179124893746534,\n        \"min\": 1.0,\n        \"max\": 11.0,\n        \"num_unique_values\": 11,\n        \"samples\": [\n          10.0,\n          5.0,\n          1.0\n        ],\n        \"semantic_type\": \"\",\n        \"description\": \"\"\n      }\n    },\n    {\n      \"column\": \"Elevator\",\n      \"properties\": {\n        \"dtype\": \"category\",\n        \"num_unique_values\": 2,\n        \"samples\": [\n          \"no\",\n          \"yes\"\n        ],\n        \"semantic_type\": \"\",\n        \"description\": \"\"\n      }\n    },\n    {\n      \"column\": \"Finishing\",\n      \"properties\": {\n        \"dtype\": \"category\",\n        \"num_unique_values\": 6,\n        \"samples\": [\n          \"delux\",\n          \"super lux\"\n        ],\n        \"semantic_type\": \"\",\n        \"description\": \"\"\n      }\n    },\n    {\n      \"column\": \"Number of Rooms\",\n      \"properties\": {\n        \"dtype\": \"number\",\n        \"std\": 0.6918556156814132,\n        \"min\": 2.0,\n        \"max\": 5.0,\n        \"num_unique_values\": 4,\n        \"samples\": [\n          2.0,\n          5.0\n        ],\n        \"semantic_type\": \"\",\n        \"description\": \"\"\n      }\n    },\n    {\n      \"column\": \"Ability of Negotiation\",\n      \"properties\": {\n        \"dtype\": \"category\",\n        \"num_unique_values\": 2,\n        \"samples\": [\n          \"no\",\n          \"yes\"\n        ],\n        \"semantic_type\": \"\",\n        \"description\": \"\"\n      }\n    },\n    {\n      \"column\": \"Overlooks\",\n      \"properties\": {\n        \"dtype\": \"category\",\n        \"num_unique_values\": 17,\n        \"samples\": [\n          \"sea and main street\",\n          \"sea and tourist walk\"\n        ],\n        \"semantic_type\": \"\",\n        \"description\": \"\"\n      }\n    }\n  ]\n}"
            }
          },
          "metadata": {},
          "execution_count": 21
        }
      ]
    },
    {
      "cell_type": "code",
      "source": [
        "apartmentList_df.to_csv('output.csv', index=False)\n"
      ],
      "metadata": {
        "id": "7dz1BA3Gpy3g"
      },
      "execution_count": null,
      "outputs": []
    },
    {
      "cell_type": "code",
      "source": [
        "from google.colab import files\n",
        "files.download('output.csv')"
      ],
      "metadata": {
        "colab": {
          "base_uri": "https://localhost:8080/",
          "height": 17
        },
        "id": "-ZagiWK5p-1g",
        "outputId": "c7d5d28d-6186-4acd-f307-9487b0da1a78"
      },
      "execution_count": null,
      "outputs": [
        {
          "output_type": "display_data",
          "data": {
            "text/plain": [
              "<IPython.core.display.Javascript object>"
            ],
            "application/javascript": [
              "\n",
              "    async function download(id, filename, size) {\n",
              "      if (!google.colab.kernel.accessAllowed) {\n",
              "        return;\n",
              "      }\n",
              "      const div = document.createElement('div');\n",
              "      const label = document.createElement('label');\n",
              "      label.textContent = `Downloading \"${filename}\": `;\n",
              "      div.appendChild(label);\n",
              "      const progress = document.createElement('progress');\n",
              "      progress.max = size;\n",
              "      div.appendChild(progress);\n",
              "      document.body.appendChild(div);\n",
              "\n",
              "      const buffers = [];\n",
              "      let downloaded = 0;\n",
              "\n",
              "      const channel = await google.colab.kernel.comms.open(id);\n",
              "      // Send a message to notify the kernel that we're ready.\n",
              "      channel.send({})\n",
              "\n",
              "      for await (const message of channel.messages) {\n",
              "        // Send a message to notify the kernel that we're ready.\n",
              "        channel.send({})\n",
              "        if (message.buffers) {\n",
              "          for (const buffer of message.buffers) {\n",
              "            buffers.push(buffer);\n",
              "            downloaded += buffer.byteLength;\n",
              "            progress.value = downloaded;\n",
              "          }\n",
              "        }\n",
              "      }\n",
              "      const blob = new Blob(buffers, {type: 'application/binary'});\n",
              "      const a = document.createElement('a');\n",
              "      a.href = window.URL.createObjectURL(blob);\n",
              "      a.download = filename;\n",
              "      div.appendChild(a);\n",
              "      a.click();\n",
              "      div.remove();\n",
              "    }\n",
              "  "
            ]
          },
          "metadata": {}
        },
        {
          "output_type": "display_data",
          "data": {
            "text/plain": [
              "<IPython.core.display.Javascript object>"
            ],
            "application/javascript": [
              "download(\"download_c681c4db-e41e-454d-8ae0-30c22e9d0fa9\", \"output.csv\", 8355)"
            ]
          },
          "metadata": {}
        }
      ]
    }
  ]
}